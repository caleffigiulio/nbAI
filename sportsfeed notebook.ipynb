{
 "cells": [
  {
   "cell_type": "code",
   "execution_count": 5,
   "metadata": {},
   "outputs": [],
   "source": [
    "from ohmysportsfeedspy import MySportsFeeds\n",
    "\n",
    "import pandas as pd\n",
    "\n",
    "msf = MySportsFeeds(version=\"1.0\")\n",
    "\n",
    "msf.authenticate(\"GiulioDC\", \"V7C6D6KyM85x\")\n",
    "\n",
    "output = msf.msf_get_data(league='nba', season='2016-2017-regular', feed='player_gamelogs', format='json',\n",
    "                          player='stephen-curry')\n",
    "dataframe = pd.DataFrame(output)\n",
    "\n",
    "\n",
    "\n",
    "\n"
   ]
  },
  {
   "cell_type": "code",
   "execution_count": 6,
   "metadata": {},
   "outputs": [
    {
     "data": {
      "text/html": [
       "<div>\n",
       "<style scoped>\n",
       "    .dataframe tbody tr th:only-of-type {\n",
       "        vertical-align: middle;\n",
       "    }\n",
       "\n",
       "    .dataframe tbody tr th {\n",
       "        vertical-align: top;\n",
       "    }\n",
       "\n",
       "    .dataframe thead th {\n",
       "        text-align: right;\n",
       "    }\n",
       "</style>\n",
       "<table border=\"1\" class=\"dataframe\">\n",
       "  <thead>\n",
       "    <tr style=\"text-align: right;\">\n",
       "      <th></th>\n",
       "      <th>playergamelogs</th>\n",
       "    </tr>\n",
       "  </thead>\n",
       "  <tbody>\n",
       "    <tr>\n",
       "      <th>gamelogs</th>\n",
       "      <td>[{'game': {'id': '33943', 'date': '2016-10-25'...</td>\n",
       "    </tr>\n",
       "    <tr>\n",
       "      <th>lastUpdatedOn</th>\n",
       "      <td>2017-11-07 6:50:26 PM</td>\n",
       "    </tr>\n",
       "  </tbody>\n",
       "</table>\n",
       "</div>"
      ],
      "text/plain": [
       "                                                  playergamelogs\n",
       "gamelogs       [{'game': {'id': '33943', 'date': '2016-10-25'...\n",
       "lastUpdatedOn                              2017-11-07 6:50:26 PM"
      ]
     },
     "execution_count": 6,
     "metadata": {},
     "output_type": "execute_result"
    }
   ],
   "source": [
    "dataframe"
   ]
  },
  {
   "cell_type": "code",
   "execution_count": null,
   "metadata": {},
   "outputs": [],
   "source": []
  }
 ],
 "metadata": {
  "kernelspec": {
   "display_name": "Python 3",
   "language": "python",
   "name": "python3"
  },
  "language_info": {
   "codemirror_mode": {
    "name": "ipython",
    "version": 3
   },
   "file_extension": ".py",
   "mimetype": "text/x-python",
   "name": "python",
   "nbconvert_exporter": "python",
   "pygments_lexer": "ipython3",
   "version": "3.6.3"
  }
 },
 "nbformat": 4,
 "nbformat_minor": 1
}
